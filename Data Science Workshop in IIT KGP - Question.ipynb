{
 "cells": [
  {
   "cell_type": "markdown",
   "metadata": {},
   "source": [
    "### Task"
   ]
  },
  {
   "cell_type": "markdown",
   "metadata": {},
   "source": [
    "#### Q.1. When store is closed, sales = 0. Can this insight be used for Data Cleaning? Perform this and retrain the Linear Regression model. Compare the result with previous model."
   ]
  },
  {
   "cell_type": "code",
   "execution_count": 1,
   "metadata": {},
   "outputs": [],
   "source": [
    "import pandas as pd"
   ]
  },
  {
   "cell_type": "code",
   "execution_count": 2,
   "metadata": {},
   "outputs": [
    {
     "name": "stderr",
     "output_type": "stream",
     "text": [
      "C:\\ProgramData\\Anaconda3\\lib\\site-packages\\IPython\\core\\interactiveshell.py:3020: DtypeWarning: Columns (7) have mixed types.Specify dtype option on import or set low_memory=False.\n",
      "  interactivity=interactivity, compiler=compiler, result=result)\n"
     ]
    }
   ],
   "source": [
    "training_df = pd.read_csv(\"..\\\\train_data.csv\")"
   ]
  },
  {
   "cell_type": "code",
   "execution_count": 3,
   "metadata": {},
   "outputs": [
    {
     "data": {
      "text/plain": [
       "(982644, 9)"
      ]
     },
     "execution_count": 3,
     "metadata": {},
     "output_type": "execute_result"
    }
   ],
   "source": [
    "training_df.shape"
   ]
  },
  {
   "cell_type": "code",
   "execution_count": 4,
   "metadata": {},
   "outputs": [],
   "source": [
    "from sklearn import preprocessing\n",
    "from copy import deepcopy\n",
    "\n",
    "training_df_encode = deepcopy(training_df)\n",
    "training_df_encode['StateHoliday'] = training_df_encode['StateHoliday'].astype(str)\n",
    "le = preprocessing.LabelEncoder()\n",
    "training_df_encode['StateHoliday'] = le.fit_transform(training_df_encode['StateHoliday'].fillna(\"\"))\n",
    "training_df_encode['StateHoliday'] = training_df_encode['StateHoliday'].astype(int)\n",
    "\n",
    "StateHoliday_LE_Map = dict(zip(le.classes_, le.transform(le.classes_)))\n",
    "StateHoliday_LE_Map_reverse = dict(zip(le.transform(le.classes_), le.classes_))"
   ]
  },
  {
   "cell_type": "code",
   "execution_count": 5,
   "metadata": {},
   "outputs": [],
   "source": [
    "test_df = pd.read_csv(\"..\\\\test_data_hidden.csv\")"
   ]
  },
  {
   "cell_type": "code",
   "execution_count": 6,
   "metadata": {},
   "outputs": [],
   "source": [
    "test_df['StateHoliday'] = test_df['StateHoliday'].map(StateHoliday_LE_Map_reverse)"
   ]
  },
  {
   "cell_type": "code",
   "execution_count": 7,
   "metadata": {},
   "outputs": [
    {
     "data": {
      "text/plain": [
       "(34565, 9)"
      ]
     },
     "execution_count": 7,
     "metadata": {},
     "output_type": "execute_result"
    }
   ],
   "source": [
    "test_df.shape"
   ]
  },
  {
   "cell_type": "code",
   "execution_count": 8,
   "metadata": {},
   "outputs": [],
   "source": [
    "from sklearn import datasets, linear_model\n",
    "from sklearn.metrics import mean_squared_error, mean_absolute_error, r2_score\n",
    "\n",
    "def model_training(X_train, y_train):\n",
    "    regr = linear_model.LinearRegression()\n",
    "    regr.fit(X_train, y_train)\n",
    "    return regr"
   ]
  },
  {
   "cell_type": "code",
   "execution_count": 9,
   "metadata": {},
   "outputs": [],
   "source": [
    "def model_predict(X_test, regr):\n",
    "    y_pred = regr.predict(X_test)\n",
    "    return list(y_pred)"
   ]
  },
  {
   "cell_type": "code",
   "execution_count": 10,
   "metadata": {},
   "outputs": [],
   "source": [
    "from sklearn.metrics import mean_squared_error, mean_absolute_error, r2_score\n",
    "def model_performance(y_test, y_pred, regr):\n",
    "        \n",
    "#     try:\n",
    "    # The mean squared error\n",
    "    mse = mean_squared_error(y_test, y_pred)\n",
    "\n",
    "    # The mean absolute error\n",
    "    mae = mean_absolute_error(y_test, y_pred)\n",
    "\n",
    "    # The coefficient of determination: 1 is perfect prediction\n",
    "\n",
    "    r2 = r2_score(y_test, y_pred)\n",
    "        \n",
    "    \n",
    "    \n",
    "    return mse, mae, r2"
   ]
  },
  {
   "cell_type": "code",
   "execution_count": 11,
   "metadata": {},
   "outputs": [],
   "source": [
    "def model_for_all_or_each_store(training_df, test_df, store_no):\n",
    "    \n",
    "    if str(store_no).lower() == 'all':\n",
    "        print (\"training_df_all shape : \", training_df.shape)\n",
    "        # Splitting Training Data\n",
    "        X_train = training_df[['Store', 'Customers','Open', 'Promo', 'StateHoliday', 'SchoolHoliday']]\n",
    "        y_train = training_df['Sales']\n",
    "\n",
    "        # Splitting Testing Data\n",
    "        X_test = test_df[['Store', 'Customers','Open', 'Promo', 'StateHoliday', 'SchoolHoliday']]\n",
    "        y_test = list(test_df['Sales'])\n",
    "        \n",
    "         # Model Training\n",
    "        regr = model_training(X_train, y_train)\n",
    "\n",
    "        # Prediction\n",
    "        y_pred = model_predict(X_test, regr)\n",
    "\n",
    "        # Performance Measurement\n",
    "        mse, mae, r2 = model_performance(y_test, y_pred, regr)\n",
    "        \n",
    "        return y_pred, mse, mae, r2\n",
    "        \n",
    "    else:\n",
    "        training_df_store = training_df[training_df['Store'] == store_no]\n",
    "        print (\"training_df_store shape : \", training_df_store.shape)\n",
    "        \n",
    "        \n",
    "        test_df = test_df[test_df['Store'] == store_no]\n",
    "        \n",
    "        # Splitting Training Data\n",
    "        X_train = training_df_store[['Customers','Open', 'Promo', 'StateHoliday', 'SchoolHoliday']]\n",
    "        y_train = training_df_store['Sales']\n",
    "\n",
    "        # Splitting Testing Data\n",
    "        X_test = test_df[['Customers','Open', 'Promo', 'StateHoliday', 'SchoolHoliday']]\n",
    "        y_test = list(test_df['Sales'])\n",
    "        \n",
    "        # Model Training\n",
    "        regr = model_training(X_train, y_train)\n",
    "\n",
    "        # Prediction\n",
    "        y_pred = model_predict(X_test, regr)\n",
    "\n",
    "        # Performance Measurement\n",
    "        mse, mae, r2 = model_performance(y_test, y_pred, regr)\n",
    "        \n",
    "        return y_pred, mse, mae, r2\n",
    "   \n",
    "    \n",
    "    \n",
    "    "
   ]
  },
  {
   "cell_type": "code",
   "execution_count": 14,
   "metadata": {},
   "outputs": [
    {
     "name": "stdout",
     "output_type": "stream",
     "text": [
      "training_df_store shape :  (754, 9)\n",
      "Mean squared error: 62788.86\n",
      "Mean Absolute Error: 207.92\n",
      "R-Square Score: 0.86\n"
     ]
    }
   ],
   "source": [
    "from sklearn.metrics import mean_squared_error, mean_absolute_error, r2_score\n",
    "\n",
    "training_df_encode_without_store_0 = training_df_encode[training_df_encode['Sales'] != 0]\n",
    "test_df_without_store_0 = test_df[test_df['Sales'] != 0]\n",
    "\n",
    "\n",
    "y_pred, mse, mae, r2 = model_for_all_or_each_store(training_df_encode_without_store_0, test_df_without_store_0, 1)\n",
    "print('Mean squared error: %.2f'%mse )\n",
    "print('Mean Absolute Error: %.2f'%mae)\n",
    "print('R-Square Score: %.2f'%r2)"
   ]
  },
  {
   "cell_type": "markdown",
   "metadata": {},
   "source": [
    "#### 2. Use Non-Linear Regressors (DT-Regressors). ####\n",
    "       a)    Train a single model for all stores, where storeId can be a feature.\n",
    "       b)    Train separate models for each store.\n"
   ]
  },
  {
   "cell_type": "code",
   "execution_count": 18,
   "metadata": {},
   "outputs": [],
   "source": [
    "from sklearn.tree import DecisionTreeRegressor\n",
    "from sklearn.metrics import mean_squared_error, mean_absolute_error, r2_score\n",
    "\n",
    "def model_training(X_train, y_train):\n",
    "    regr = DecisionTreeRegressor(max_depth=25, random_state=42)\n",
    "    regr.fit(X_train, y_train)\n",
    "    return regr"
   ]
  },
  {
   "cell_type": "code",
   "execution_count": 19,
   "metadata": {},
   "outputs": [],
   "source": [
    "def model_predict(X_test, regr):\n",
    "    y_pred = regr.predict(X_test)\n",
    "    return list(y_pred)"
   ]
  },
  {
   "cell_type": "code",
   "execution_count": 20,
   "metadata": {},
   "outputs": [
    {
     "name": "stdout",
     "output_type": "stream",
     "text": [
      "training_df_store shape :  (911, 9)\n",
      "Mean squared error: 155805.89\n",
      "Mean Absolute Error: 287.99\n",
      "R-Square Score: 0.94\n"
     ]
    }
   ],
   "source": [
    "\n",
    "from sklearn.metrics import mean_squared_error, mean_absolute_error, r2_score\n",
    "y_pred, mse, mae, r2 = model_for_all_or_each_store(training_df_encode, test_df, 1)\n",
    "print('Mean squared error: %.2f'%mse )\n",
    "print('Mean Absolute Error: %.2f'%mae)\n",
    "print('R-Square Score: %.2f'%r2)"
   ]
  },
  {
   "cell_type": "code",
   "execution_count": null,
   "metadata": {},
   "outputs": [],
   "source": []
  }
 ],
 "metadata": {
  "kernelspec": {
   "display_name": "Python 3",
   "language": "python",
   "name": "python3"
  },
  "language_info": {
   "codemirror_mode": {
    "name": "ipython",
    "version": 3
   },
   "file_extension": ".py",
   "mimetype": "text/x-python",
   "name": "python",
   "nbconvert_exporter": "python",
   "pygments_lexer": "ipython3",
   "version": "3.7.1"
  }
 },
 "nbformat": 4,
 "nbformat_minor": 2
}
